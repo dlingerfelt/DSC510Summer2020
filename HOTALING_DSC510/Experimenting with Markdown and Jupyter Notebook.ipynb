{
 "cells": [
  {
   "cell_type": "markdown",
   "metadata": {},
   "source": [
    "# Experimenting with Markdown and Juptyer Notebook\n",
    "Jupyter Notebooks are a very versatile way of coding. The ability to inject text, images and equations into documentation opens up a world of possibilities. Using markdown can really expand the capabilities of how we reach our audience and other programmers. \n",
    "\n",
    "Firstly, Juptyer notebooks allow us to execute code in the actual document itself. For example"
   ]
  },
  {
   "cell_type": "code",
   "execution_count": 1,
   "metadata": {},
   "outputs": [
    {
     "name": "stdout",
     "output_type": "stream",
     "text": [
      "Hello Mike!\n"
     ]
    }
   ],
   "source": [
    "# This is a friendly function\n",
    "\n",
    "def hello(name):\n",
    "    print(\"Hello {}!\".format(name))\n",
    "    \n",
    "hello(\"Mike\")"
   ]
  },
  {
   "cell_type": "markdown",
   "metadata": {},
   "source": [
    "The cell above contains Python code and the hashmark begins the Python comment. Using markdown, there is a better way to do it. That better way is Markdown.\n",
    "\n",
    "The idea behind Markdown is the ability to use plain text to create beautiful formatting without having to use HTML or CSS.\n",
    "\n",
    "In Juptyer, by default, every cell is a Code cell. We can change that by using ESC + M or by changing it in the cell settings above. I am using Markdown cells right now to write this sentence!\n",
    "\n",
    "If we want to change the Markdown cell back to a Code cell, we can use ESC + Y\n",
    "\n",
    "So far, this hasn't been that exciting, has it? Text is just text, and we can just add comments to our code if we want. But like I have above, we can create headlines!\n",
    "\n",
    "We can create the the below line by using the following text:\n",
    "\n",
    "# This is a big headline\n",
    "\\# this is a big headline\n",
    "## This is a smaller headline\n",
    "\\## this is a smaller headline\n",
    "### This is even smaller\n",
    "\\### this is even smaller\n",
    "#### This is very small\n",
    "\\#### This is very small\n",
    "##### This has some funny italization \n",
    "\\##### This has some funny italization\n",
    "\n",
    "Let's modify our code block to use Markdown instead of Python comments"
   ]
  },
  {
   "cell_type": "markdown",
   "metadata": {},
   "source": [
    "# Function: Hello\n",
    "This is a sample function which we can use to greet the user"
   ]
  },
  {
   "cell_type": "code",
   "execution_count": 2,
   "metadata": {},
   "outputs": [
    {
     "name": "stdout",
     "output_type": "stream",
     "text": [
      "Hello Mike!\n"
     ]
    }
   ],
   "source": [
    "def hello(name):\n",
    "    print(\"Hello {}!\".format(name))\n",
    "    \n",
    "hello(\"Mike\")"
   ]
  },
  {
   "cell_type": "markdown",
   "metadata": {},
   "source": [
    "## Formatting"
   ]
  },
  {
   "cell_type": "markdown",
   "metadata": {},
   "source": [
    "We can use also use **bold** font and *italisized* font in Markdown by using the following code\n",
    "\n",
    "**bold** - \\*\\*bold** <br/>*italisized* - \\*italisized*<br/>***both bold and italisized*** - \\*\\*\\*both bold and italisized***<br/>~~strikethrough~~ - \\~\\~\\~strikethrough\\~\\~\\~<br/>[Making a Hyperlink](http://www.example.com) - \\[Making a Hyperlink](example.com)"
   ]
  },
  {
   "cell_type": "markdown",
   "metadata": {},
   "source": [
    "We can also make lists in Markdown. Markdown will automatically figures out how to number things accordingly. "
   ]
  },
  {
   "cell_type": "markdown",
   "metadata": {},
   "source": [
    "1. Apples\n",
    "    1. Green\n",
    "    2. Red\n",
    "2. Bananas\n",
    "    1. Big\n",
    "    2. Small\n",
    "3. Carrots\n",
    "4. Oranges\n",
    "    1. Tangerines\n",
    "        1. Big\n",
    "        2. Small\n",
    "    2. Clementines\n",
    "    "
   ]
  },
  {
   "cell_type": "markdown",
   "metadata": {},
   "source": [
    "We can also convert the list to bullets instead using dashes instead of numbers\n",
    "- Apples\n",
    "    - Green\n",
    "    - Red\n",
    "- Bananas\n",
    "    - Big\n",
    "    - Small\n",
    "- Carrots\n",
    "- Oranges\n",
    "    - Tangerines\n",
    "        - Big\n",
    "        - Small\n",
    "    - Clementines\n",
    "    "
   ]
  },
  {
   "cell_type": "markdown",
   "metadata": {},
   "source": [
    "You can use $$\\LaTeX$$ to typeset formulas. A formula can be displayed inline, e.g. $$e=mc^2$$, or as a block:\n",
    "$$\\int_\\Omega \\nabla u \\cdot \\nabla v~dx = \\int_\\Omega fv~dx$$\n",
    "Also check out this [LaTeX introduction](https://en.wikibooks.org/wiki/LaTeX/Mathematics)."
   ]
  },
  {
   "cell_type": "markdown",
   "metadata": {},
   "source": [
    "If we want to create inline code blocks, we can wrap them in backticks:<br/> `is_prime = True`. - \\`is_prime = True\\`\n",
    "\n",
    "If the block of code we want to add is too long, we can wrap it in a triple backtick \\`\\`\\` \n",
    "\n",
    "```\n",
    "def is_even(x):\n",
    "    if x == 1:\n",
    "        return False\n",
    "    elif x == 2:\n",
    "        return True\n",
    "    elif x == 3:\n",
    "        return False\n",
    "    elif x == 4:\n",
    "        return True\n",
    "    elif x == 5:\n",
    "        return False\n",
    "    elif x == 6:\n",
    "        return True\n",
    "    elif x == 7:\n",
    "        return False\n",
    "    elif x == 8:\n",
    "        return True\n",
    "```"
   ]
  },
  {
   "cell_type": "markdown",
   "metadata": {},
   "source": [
    "Lastly, we can even add images to our markdown files! It might not show up on the class Github because the files don't run while in the repo, but if you download it, it should pop up.\n",
    "![Blue Marble](https://upload.wikimedia.org/wikipedia/commons/9/97/The_Earth_seen_from_Apollo_17.jpg)"
   ]
  },
  {
   "cell_type": "markdown",
   "metadata": {},
   "source": [
    "That's all for now! There is a ton of different things we can do with Python Notebooks and Markdown really opens up the possibilities. \n",
    "\n",
    "As always, Happy Programming! <br/> Mike"
   ]
  }
 ],
 "metadata": {
  "kernelspec": {
   "display_name": "Python 3",
   "language": "python",
   "name": "python3"
  },
  "language_info": {
   "codemirror_mode": {
    "name": "ipython",
    "version": 3
   },
   "file_extension": ".py",
   "mimetype": "text/x-python",
   "name": "python",
   "nbconvert_exporter": "python",
   "pygments_lexer": "ipython3",
   "version": "3.7.4"
  }
 },
 "nbformat": 4,
 "nbformat_minor": 2
}
